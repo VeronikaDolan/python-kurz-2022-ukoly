{
 "cells": [
  {
   "cell_type": "code",
   "execution_count": 1,
   "metadata": {},
   "outputs": [],
   "source": [
    "# Soubor si načti do proměnné tak, aby se celý jeho obsah nacházel jako jeden řetězec v proměnné. Můžeš využít metodu read() (doplň název souboru a název své proměnné):\n",
    "with open('posta.html', encoding='utf-8') as vstup:\n",
    "    posta = vstup.read()"
   ]
  },
  {
   "cell_type": "code",
   "execution_count": null,
   "metadata": {},
   "outputs": [],
   "source": [
    "# Nahraď znaky odřádkování (zapisuje se jako '\\n') jednoduchou mezerou pomocí metody replace().\n",
    "posta_rep = posta.replace('\\n', ' ')\n",
    "posta_rep\n"
   ]
  },
  {
   "cell_type": "code",
   "execution_count": 3,
   "metadata": {},
   "outputs": [],
   "source": [
    "# Nahraď po sobě jdoucích víc mezer jedinou mezerou: Sestav regulární výraz, který označuje jednu nebo více mezer. Pak pomocí re.sub() nahraď takové sekvence jedinou mezerou. První parametr metody re.sub() je regulární výraz, který nahrazujeme, druhý parametr je řetězec, který nahrazujeme, a třetí parametr je řetězec, ve kterém nahrazujeme.\n",
    "\n",
    "import re\n",
    "\n",
    "regex_posta = re.compile(r\" {1,}\")"
   ]
  },
  {
   "cell_type": "code",
   "execution_count": null,
   "metadata": {},
   "outputs": [],
   "source": [
    "result = regex_posta.sub(\" \", posta_rep)\n",
    "print(result)"
   ]
  },
  {
   "cell_type": "code",
   "execution_count": 6,
   "metadata": {},
   "outputs": [
    {
     "name": "stdout",
     "output_type": "stream",
     "text": [
      "['190 16 PRAHA 916', '378 08 DVORY NAD LUŽNICÍ', '190 16 PRAHA 916', '378 08 DVORY NAD LUŽNICÍ', '186 00 PRAHA 86', '118 00 PRAHA 011', '397 04 PÍSEK 4', '460 15 LIBEREC 15', '623 00 BRNO 23', '512 11 VYSOKÉ NAD JIZEROU', '378 07 RAPŠACH', '130 00 PRAHA 3', '273 01 KAMENNÉ ŽEHROVICE', '513 01 SEMILY', '398 11 PROTIVÍN', '742 45 FULNEK', '948 01 Lučenec']\n",
      "17\n"
     ]
    }
   ],
   "source": [
    "# Najdi v datech všechna česká a slovenská města a jejich PSČ, která se nacházejí v ukázkových adresách. Mají format PSČ MĚSTO, kde PSČ se skládá ze tří číslic, mezery a dvou číslic, a MĚSTO se skládá z jednoho, dvou nebo tří slov oddělených mezerou, za kterými může ještě následovat číslo pošty.\n",
    "\n",
    "regex_psc_mesto = re.compile(r\"\\d{3} \\d{2} [A-Za-zÀ-ž]+\\s*[A-Za-zÀ-ž]*\\s*[A-Za-zÀ-ž]*\\s*[0-9]*\") # dodelat - psc je ok a ted mesto\n",
    "\n",
    "pocet_mest = regex_psc_mesto.findall(result)\n",
    "print(pocet_mest)\n",
    "\n",
    "\n",
    "\n",
    "print(len(pocet_mest))\n",
    "\n"
   ]
  }
 ],
 "metadata": {
  "kernelspec": {
   "display_name": "Python 3.8.10 64-bit",
   "language": "python",
   "name": "python3"
  },
  "language_info": {
   "codemirror_mode": {
    "name": "ipython",
    "version": 3
   },
   "file_extension": ".py",
   "mimetype": "text/x-python",
   "name": "python",
   "nbconvert_exporter": "python",
   "pygments_lexer": "ipython3",
   "version": "3.8.10"
  },
  "orig_nbformat": 4,
  "vscode": {
   "interpreter": {
    "hash": "e7370f93d1d0cde622a1f8e1c04877d8463912d04d973331ad4851f04de6915a"
   }
  }
 },
 "nbformat": 4,
 "nbformat_minor": 2
}
