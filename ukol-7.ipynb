{
 "cells": [
  {
   "cell_type": "code",
   "execution_count": 19,
   "metadata": {},
   "outputs": [
    {
     "name": "stdout",
     "output_type": "stream",
     "text": [
      "Cena vstupenek je: 1000 Kc.\n"
     ]
    }
   ],
   "source": [
    "import datetime \n",
    "from datetime import datetime\n",
    "input_date = input('Zadejte datum(dd.mm.yyyy): ')\n",
    "input_persons = int(input('Zadejte pocet osob: '))\n",
    "\n",
    "tickets_date = datetime.strptime(input_date,'%d.%m.%Y')\n",
    "\n",
    "#prvni_udalost = 01.07.2021 - 10.08.2021\n",
    "#druha_udalost = 11.08.2021 - 31.08.2021\n",
    "\n",
    "prvni_udalost_open = datetime(2021, 7, 1)\n",
    "prvni_udalost_close = datetime(2021, 8, 10)\n",
    "druha_udalost_open = datetime(2021, 8, 11)\n",
    "druha_udalost_close = datetime(2021, 8, 31)\n",
    "\n",
    "if (tickets_date >= prvni_udalost_open) and (tickets_date <= prvni_udalost_close):\n",
    "    print(f'Cena vstupenek je: {input_persons*250} Kc.')\n",
    "elif (tickets_date >= druha_udalost_open) and (tickets_date <= druha_udalost_close):\n",
    "    print(f'Cena vstupenek je: {input_persons*180} Kc.')\n",
    "else:\n",
    "    print('V tento datum je letni kino zavrene.')"
   ]
  }
 ],
 "metadata": {
  "kernelspec": {
   "display_name": "Python 3.9.5 64-bit",
   "language": "python",
   "name": "python3"
  },
  "language_info": {
   "codemirror_mode": {
    "name": "ipython",
    "version": 3
   },
   "file_extension": ".py",
   "mimetype": "text/x-python",
   "name": "python",
   "nbconvert_exporter": "python",
   "pygments_lexer": "ipython3",
   "version": "3.9.5"
  },
  "orig_nbformat": 4,
  "vscode": {
   "interpreter": {
    "hash": "f9f85f796d01129d0dd105a088854619f454435301f6ffec2fea96ecbd9be4ac"
   }
  }
 },
 "nbformat": 4,
 "nbformat_minor": 2
}
